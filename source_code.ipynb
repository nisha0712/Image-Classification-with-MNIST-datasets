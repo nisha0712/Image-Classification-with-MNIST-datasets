{
  "nbformat": 4,
  "nbformat_minor": 0,
  "metadata": {
    "kernelspec": {
      "display_name": "Python 3",
      "language": "python",
      "name": "python3"
    },
    "language_info": {
      "codemirror_mode": {
        "name": "ipython",
        "version": 3
      },
      "file_extension": ".py",
      "mimetype": "text/x-python",
      "name": "python",
      "nbconvert_exporter": "python",
      "pygments_lexer": "ipython3",
      "version": "3.7.3"
    },
    "colab": {
      "name": "souce_code.ipynb",
      "provenance": [],
      "collapsed_sections": []
    }
  },
  "cells": [
    {
      "cell_type": "markdown",
      "metadata": {
        "id": "QM_FPoRyWRFu",
        "colab_type": "text"
      },
      "source": [
        "# Image Classification with MNIST Dataset\n",
        "\n",
        "MNIST dataset, which stands for Modified National Institute of Standards and Technology database. It is a large database of handwritten digits that is commonly used for training various image processing systems.\n",
        "\n",
        "The MNIST dataset is one of the most common datasets used for image classification and accessible from many different \n",
        "sources. In fact, even Tensorflow and Keras allow us to import and download the MNIST dataset directly from their API.\n",
        "\n",
        "# Convolutional Neural Network\n",
        "\n",
        "One of the most powerful supervised deep learning techniques is the Convolutional Neural NetworksCNNs are mainly used for image classification although you may find other application areas such as natural language processing.\n",
        "\n",
        "We are capable of using many different layers in a convolutional neural network. However, convolution, pooling, and fully connect layers are the most important ones.\n",
        "\n",
        "# Layers of CNN\n",
        "\n",
        "1.Convolutional Layers\n",
        "\n",
        "Convolutional layer is the very first layer where we extract features from the images in our datasets.\n",
        "\n",
        "2.Pooling Layer\n",
        "\n",
        "When constructing CNNs, it is common to insert pooling layers after each convolution layer to reduce the spatial size of the representation to reduce the parameter counts which reduces the computational complexity.\n",
        "\n",
        "3.A Set of Fully Connected Layers\n",
        "\n",
        "A fully connected network is our RegularNet where each parameter is linked to one another to determine the true relation and effect of each parameter on the labels."
      ]
    },
    {
      "cell_type": "code",
      "metadata": {
        "id": "yRUoUUW-WRFx",
        "colab_type": "code",
        "colab": {}
      },
      "source": [
        "#Importing the MNIST dataset\n",
        "import tensorflow as tf\n",
        "(x_train, y_train), (x_test, y_test) = tf.keras.datasets.mnist.load_data()"
      ],
      "execution_count": 0,
      "outputs": []
    },
    {
      "cell_type": "code",
      "metadata": {
        "id": "B8bMkPjMWRF5",
        "colab_type": "code",
        "colab": {},
        "outputId": "7e1f44d0-3305-4317-a883-30134fb6094e"
      },
      "source": [
        "import matplotlib.pyplot as plt\n",
        "image_index = 7777 # You may select anything up to 60,000\n",
        "print(y_train[image_index]) # The label is 8\n",
        "plt.imshow(x_train[image_index], cmap='Greys')"
      ],
      "execution_count": 0,
      "outputs": [
        {
          "output_type": "stream",
          "text": [
            "8\n"
          ],
          "name": "stdout"
        },
        {
          "output_type": "execute_result",
          "data": {
            "text/plain": [
              "<matplotlib.image.AxesImage at 0x7f4248034278>"
            ]
          },
          "metadata": {
            "tags": []
          },
          "execution_count": 2
        }
      ]
    },
    {
      "cell_type": "code",
      "metadata": {
        "id": "3FVZ2vEWWRGC",
        "colab_type": "code",
        "colab": {},
        "outputId": "3c0e52e6-5b63-4c0c-b974-2c781edeb92d"
      },
      "source": [
        "x_train.shape"
      ],
      "execution_count": 0,
      "outputs": [
        {
          "output_type": "execute_result",
          "data": {
            "text/plain": [
              "(60000, 28, 28)"
            ]
          },
          "metadata": {
            "tags": []
          },
          "execution_count": 3
        }
      ]
    },
    {
      "cell_type": "code",
      "metadata": {
        "id": "hzorB3EjWRGH",
        "colab_type": "code",
        "colab": {},
        "outputId": "3aba4283-8a93-4a64-bc21-c072223e11cd"
      },
      "source": [
        "# Reshaping the array to 4-dims so that it can work with the Keras API\n",
        "x_train = x_train.reshape(x_train.shape[0], 28, 28, 1)\n",
        "x_test = x_test.reshape(x_test.shape[0], 28, 28, 1)\n",
        "input_shape = (28, 28, 1)\n",
        "# Making sure that the values are float so that we can get decimal points after division\n",
        "x_train = x_train.astype('float32')\n",
        "x_test = x_test.astype('float32')\n",
        "# Normalizing the RGB codes by dividing it to the max RGB value.\n",
        "x_train /= 255\n",
        "x_test /= 255\n",
        "print('x_train shape:', x_train.shape)\n",
        "print('Number of images in x_train', x_train.shape[0])\n",
        "print('Number of images in x_test', x_test.shape[0])"
      ],
      "execution_count": 0,
      "outputs": [
        {
          "output_type": "stream",
          "text": [
            "x_train shape: (60000, 28, 28, 1)\n",
            "Number of images in x_train 60000\n",
            "Number of images in x_test 10000\n"
          ],
          "name": "stdout"
        }
      ]
    },
    {
      "cell_type": "code",
      "metadata": {
        "id": "YOwL5FAjWRGO",
        "colab_type": "code",
        "colab": {},
        "outputId": "5d302df2-a25c-4a5d-c0c9-ac97ffceff44"
      },
      "source": [
        "# Importing the required Keras modules containing model and layers\n",
        "from keras.models import Sequential\n",
        "from keras.layers import Dense, Conv2D, Dropout, Flatten, MaxPooling2D\n"
      ],
      "execution_count": 0,
      "outputs": [
        {
          "output_type": "stream",
          "text": [
            "Using TensorFlow backend.\n"
          ],
          "name": "stderr"
        }
      ]
    },
    {
      "cell_type": "markdown",
      "metadata": {
        "id": "JBc9pGO1Wrvr",
        "colab_type": "text"
      },
      "source": [
        "**Creating Model and Adding Layers**"
      ]
    },
    {
      "cell_type": "code",
      "metadata": {
        "id": "WwZHZJq3WRGT",
        "colab_type": "code",
        "colab": {
          "base_uri": "https://localhost:8080/",
          "height": 231
        },
        "outputId": "95fd2e70-62ca-4280-80bf-cc111046b0d5"
      },
      "source": [
        "# Creating a Sequential Model and adding the layers\n",
        "model = Sequential()\n",
        "model.add(Conv2D(28, kernel_size=(3,3), input_shape=input_shape))\n",
        "#applying maxpooling\n",
        "model.add(MaxPooling2D(pool_size=(2,2)))\n",
        "model.add(Flatten())\n",
        "model.add(Dense(128, activation=tf.nn.relu))\n",
        "model.add(Dropout(0,2))\n",
        "model.add(Dense(10, activation=tf.nn.softmax))"
      ],
      "execution_count": 1,
      "outputs": [
        {
          "output_type": "error",
          "ename": "NameError",
          "evalue": "ignored",
          "traceback": [
            "\u001b[0;31m---------------------------------------------------------------------------\u001b[0m",
            "\u001b[0;31mNameError\u001b[0m                                 Traceback (most recent call last)",
            "\u001b[0;32m<ipython-input-1-b9a2c14ec4e3>\u001b[0m in \u001b[0;36m<module>\u001b[0;34m()\u001b[0m\n\u001b[0;32m----> 1\u001b[0;31m \u001b[0mmodel\u001b[0m \u001b[0;34m=\u001b[0m \u001b[0mSequential\u001b[0m\u001b[0;34m(\u001b[0m\u001b[0;34m)\u001b[0m\u001b[0;34m\u001b[0m\u001b[0;34m\u001b[0m\u001b[0m\n\u001b[0m\u001b[1;32m      2\u001b[0m \u001b[0mmodel\u001b[0m\u001b[0;34m.\u001b[0m\u001b[0madd\u001b[0m\u001b[0;34m(\u001b[0m\u001b[0mConv2D\u001b[0m\u001b[0;34m(\u001b[0m\u001b[0;36m28\u001b[0m\u001b[0;34m,\u001b[0m \u001b[0mkernel_size\u001b[0m\u001b[0;34m=\u001b[0m\u001b[0;34m(\u001b[0m\u001b[0;36m3\u001b[0m\u001b[0;34m,\u001b[0m\u001b[0;36m3\u001b[0m\u001b[0;34m)\u001b[0m\u001b[0;34m,\u001b[0m \u001b[0minput_shape\u001b[0m\u001b[0;34m=\u001b[0m\u001b[0minput_shape\u001b[0m\u001b[0;34m)\u001b[0m\u001b[0;34m)\u001b[0m\u001b[0;34m\u001b[0m\u001b[0;34m\u001b[0m\u001b[0m\n\u001b[1;32m      3\u001b[0m \u001b[0;31m#applying maxpooling\u001b[0m\u001b[0;34m\u001b[0m\u001b[0;34m\u001b[0m\u001b[0;34m\u001b[0m\u001b[0m\n\u001b[1;32m      4\u001b[0m \u001b[0mmodel\u001b[0m\u001b[0;34m.\u001b[0m\u001b[0madd\u001b[0m\u001b[0;34m(\u001b[0m\u001b[0mMaxPooling2D\u001b[0m\u001b[0;34m(\u001b[0m\u001b[0mpool_size\u001b[0m\u001b[0;34m=\u001b[0m\u001b[0;34m(\u001b[0m\u001b[0;36m2\u001b[0m\u001b[0;34m,\u001b[0m\u001b[0;36m2\u001b[0m\u001b[0;34m)\u001b[0m\u001b[0;34m)\u001b[0m\u001b[0;34m)\u001b[0m\u001b[0;34m\u001b[0m\u001b[0;34m\u001b[0m\u001b[0m\n\u001b[1;32m      5\u001b[0m \u001b[0mmodel\u001b[0m\u001b[0;34m.\u001b[0m\u001b[0madd\u001b[0m\u001b[0;34m(\u001b[0m\u001b[0mFlatten\u001b[0m\u001b[0;34m(\u001b[0m\u001b[0;34m)\u001b[0m\u001b[0;34m)\u001b[0m\u001b[0;34m\u001b[0m\u001b[0;34m\u001b[0m\u001b[0m\n",
            "\u001b[0;31mNameError\u001b[0m: name 'Sequential' is not defined"
          ]
        }
      ]
    },
    {
      "cell_type": "code",
      "metadata": {
        "id": "l7GEZZmuWRGY",
        "colab_type": "code",
        "colab": {},
        "outputId": "e0df3ce0-27b6-4bb4-8896-e06bb68240ca"
      },
      "source": [
        "#Compiling and Fitting the Model\n",
        "model.compile(optimizer='adam', \n",
        "              loss='sparse_categorical_crossentropy', \n",
        "              metrics=['accuracy'])\n",
        "model.fit(x=x_train,y=y_train, epochs=10)"
      ],
      "execution_count": 0,
      "outputs": [
        {
          "output_type": "stream",
          "text": [
            "Epoch 1/10\n",
            "60000/60000 [==============================] - 84s 1ms/step - loss: 0.1723 - acc: 0.9480\n",
            "Epoch 2/10\n",
            "60000/60000 [==============================] - 82s 1ms/step - loss: 0.0615 - acc: 0.9814\n",
            "Epoch 3/10\n",
            "60000/60000 [==============================] - 82s 1ms/step - loss: 0.0375 - acc: 0.9883\n",
            "Epoch 4/10\n",
            "60000/60000 [==============================] - 81s 1ms/step - loss: 0.0241 - acc: 0.9923\n",
            "Epoch 5/10\n",
            "60000/60000 [==============================] - 83s 1ms/step - loss: 0.0185 - acc: 0.9939\n",
            "Epoch 6/10\n",
            "60000/60000 [==============================] - 83s 1ms/step - loss: 0.0139 - acc: 0.9955\n",
            "Epoch 7/10\n",
            "60000/60000 [==============================] - 82s 1ms/step - loss: 0.0124 - acc: 0.9956\n",
            "Epoch 8/10\n",
            "60000/60000 [==============================] - 85s 1ms/step - loss: 0.0099 - acc: 0.9968\n",
            "Epoch 9/10\n",
            "60000/60000 [==============================] - 85s 1ms/step - loss: 0.0085 - acc: 0.9974\n",
            "Epoch 10/10\n",
            "60000/60000 [==============================] - 86s 1ms/step - loss: 0.0081 - acc: 0.9972\n"
          ],
          "name": "stdout"
        },
        {
          "output_type": "execute_result",
          "data": {
            "text/plain": [
              "<keras.callbacks.History at 0x7f4212435160>"
            ]
          },
          "metadata": {
            "tags": []
          },
          "execution_count": 13
        }
      ]
    },
    {
      "cell_type": "code",
      "metadata": {
        "id": "4ccReVnmWRGd",
        "colab_type": "code",
        "colab": {},
        "outputId": "bb297737-c95a-48fa-8391-bf1fc58d89a8"
      },
      "source": [
        "#Evaluating the Model\n",
        "model.evaluate(x_test, y_test)"
      ],
      "execution_count": 0,
      "outputs": [
        {
          "output_type": "stream",
          "text": [
            "10000/10000 [==============================] - 4s 411us/step\n"
          ],
          "name": "stdout"
        },
        {
          "output_type": "execute_result",
          "data": {
            "text/plain": [
              "[0.08492604368976936, 0.9833]"
            ]
          },
          "metadata": {
            "tags": []
          },
          "execution_count": 14
        }
      ]
    },
    {
      "cell_type": "code",
      "metadata": {
        "id": "A8KSbxDdWRGh",
        "colab_type": "code",
        "colab": {},
        "outputId": "93ccbd01-fc12-483c-8350-12d5c9a4b83b"
      },
      "source": [
        "image_index = 4444\n",
        "plt.imshow(x_test[image_index].reshape(28, 28),cmap='Greys')\n",
        "pred = model.predict(x_test[image_index].reshape(1, 28,28, 1))\n",
        "print(pred.argmax())"
      ],
      "execution_count": 0,
      "outputs": [
        {
          "output_type": "stream",
          "text": [
            "9\n"
          ],
          "name": "stdout"
        },
        {
          "output_type": "display_data",
          "data": {
            "image/png": "[encoded data removed]",
            "text/plain": [
              "<Figure size 432x288 with 1 Axes>"
            ]
          },
          "metadata": {
            "tags": [],
            "needs_background": "light"
          }
        }
      ]
    },
    {
      "cell_type": "code",
      "metadata": {
        "id": "R4DLwC6GWRGm",
        "colab_type": "code",
        "colab": {}
      },
      "source": [
        "Accuracy=98.3"
      ],
      "execution_count": 0,
      "outputs": []
    },
    {
      "cell_type": "code",
      "metadata": {
        "id": "ozW8MkUDWRGq",
        "colab_type": "code",
        "colab": {}
      },
      "source": [
        ""
      ],
      "execution_count": 0,
      "outputs": []
    }
  ]
}